{
 "cells": [
  {
   "cell_type": "code",
   "execution_count": 1,
   "id": "70837de9-b9e5-4af3-84f7-4fa27346c6c6",
   "metadata": {},
   "outputs": [],
   "source": [
    "import torch\n",
    "import torchvision\n",
    "import torchaudio"
   ]
  },
  {
   "cell_type": "code",
   "execution_count": 2,
   "id": "061586f1-34a8-4e1c-8bea-142faa46fc26",
   "metadata": {},
   "outputs": [
    {
     "name": "stdout",
     "output_type": "stream",
     "text": [
      "tensor([[0.0884, 0.6474, 0.4338],\n",
      "        [0.9001, 0.8214, 0.2803],\n",
      "        [0.5178, 0.8818, 0.2138],\n",
      "        [0.1659, 0.3693, 0.9139],\n",
      "        [0.8307, 0.7376, 0.5633]])\n"
     ]
    }
   ],
   "source": [
    "x = torch.rand(5, 3)\n",
    "print(x)"
   ]
  },
  {
   "cell_type": "markdown",
   "id": "abbcdd9a-eb0f-4c68-bb18-25b2b934c19f",
   "metadata": {},
   "source": [
    "## To check if your GPU driver and CUDA is enabled and accessible by PyTorch"
   ]
  },
  {
   "cell_type": "code",
   "execution_count": 3,
   "id": "589fb3a9-0134-4d82-998e-0ac2f2b207e7",
   "metadata": {},
   "outputs": [
    {
     "data": {
      "text/plain": [
       "False"
      ]
     },
     "execution_count": 3,
     "metadata": {},
     "output_type": "execute_result"
    }
   ],
   "source": [
    "torch.cuda.is_available()"
   ]
  }
 ],
 "metadata": {
  "kernelspec": {
   "display_name": "Python 3 (ipykernel)",
   "language": "python",
   "name": "python3"
  },
  "language_info": {
   "codemirror_mode": {
    "name": "ipython",
    "version": 3
   },
   "file_extension": ".py",
   "mimetype": "text/x-python",
   "name": "python",
   "nbconvert_exporter": "python",
   "pygments_lexer": "ipython3",
   "version": "3.10.11"
  }
 },
 "nbformat": 4,
 "nbformat_minor": 5
}
